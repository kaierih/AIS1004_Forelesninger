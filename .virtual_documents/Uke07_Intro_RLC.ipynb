# Generelle moduler og funksjonsbeskrivelser brukt i forelesningen
import numpy as np
import scipy.signal as sig
import matplotlib.pyplot as plt

plt.rcParams["figure.figsize"] = [8.00, 4.5]
plt.rcParams["figure.autolayout"] = True
plt.rcParams["axes.grid"] = True
plt.rcParams["axes.xmargin"] = 0.0


import numpy as np
import scipy.signal as sig
import matplotlib.pyplot as plt

R = 5 # Ohm
C = 0.032 # Farad

RC_circ = sig.TransferFunction([1], [R*C, 1]) # Forklares senere

t, v_C = RC_circ.step() # v_C(t) når v_0(t) = 1V

plt.plot(t, v_C)
plt.xlabel("Tid $t$ (sekund)")
plt.ylabel("Spenning $v_C(t)$")


R = 5 # Ohm
L = 1 # Henry

RC_circ = sig.TransferFunction([1, 0], [1, R/L]) # Forklares senere

t, v_C = RC_circ.step() # v_C(t) når v_0(t) = 1V

plt.plot(t, v_C)
plt.xlabel("Tid $t$ (sekund)")
plt.ylabel("Spenning $v_C(t)$")


R = 5 # Ohm
L = 1 # Henry
C = 0.032 # Farad

RLC_circ = sig.TransferFunction([1], [L*C, R*C, 1]) # Forklares senere
t, v_C = RLC_circ.step() # v_C(t) når v_0(t) = 1V

plt.plot(t, v_C)
plt.xlabel("Tid $t$ (sekund)")
plt.ylabel("Spenning $v_C(t)$")


xi = 2.0 # Dempingsrate
w_0 = 10 # Naturlig frekvens (rad/s)

RLC_circ = sig.TransferFunction([w_0**2], [1, 2*xi*w_0, w_0**2]) # Forklares senere
t, v_C = RLC_circ.step() # v_C(t) når v_0(t) = 1V

plt.plot(t, v_C)
plt.xlabel("Tid $t$ (sekund)")
plt.ylabel("Spenning $v_C(t)$")


z1 = 3 + 4j
print('z1 =', z1)

z2 = -4 + 2j
print('z2 =', z2)

print('z1 + z2 =', z1 + z2)


from Kildekode._03_Sinussignal import ComplexPolarDemo
get_ipython().run_line_magic("matplotlib", " ipympl")
ComplexPolarDemo(4, fig_size=(7,7));


# Kartesisk form

x = -2
y = -3
# Trigonometrisk funksjon arctan2() kan brukes til å regne ut tan^-1
# (bruk denne istedenfor arctan(), da den ikke håndterer fortegn på noen bra måte.)
print("Vinkel i radianer: ", np.arctan2(x,y))

# Komplekst tall på kartesisk form
z1 = x + 1j*y
print("\nKomplekst tall z = ", z1)
print("Polarkoordinat r: ", abs(z1))
print("Vinkel i grader: ", np.angle(z1)/np.pi*180)

# Komplekst tall på Polarform: ,
print("\nNytt tall z = 3*e^(j0.75*pi)")
z2 = 3*np.exp(3j*np.pi/4)
print("Reell del: ", np.real(z2))
print("Imaginær del: ", np.imag(z2))


xi = 1 # Dempingsrate
w_0 = 1 # Naturlig frekvens (rad/s)

def plotCircuitResponse(xi, w_0):
    RLC_circ = sig.TransferFunction([w_0**2], [1, 2*xi*w_0, w_0**2]) # Forklares senere
    t, v_C = RLC_circ.step() # v_C(t) når v_0(t) = 1V

    s = np.roots([1, 2*xi*w_0, w_0**2])
    plt.close(10);plt.figure(10, figsize=(16,7))
    plt.subplot(1,2,1)
    plt.scatter(np.real(s), np.imag(s), label='$s_1$/$s_2$')
    plt.plot(np.cos(np.linspace(np.pi/2, np.pi*1.5, 101))*w_0, np.sin(np.linspace(np.pi/2, np.pi*1.5, 101))*w_0, 'r-.', label=r"Sirkel med radius $\omega_0$")
    plt.scatter([-xi*w_0], [0], label=r"$-\xi \cdot \omega_0$")
    plt.legend()
    plt.xlabel("$\sigma$")
    plt.ylabel("$j\omega$")
    plt.subplot(1,2,2)
    plt.plot(t, v_C)
    plt.xlabel("Tid $t$ (sekund)")
    plt.ylabel("Spenning $v_C(t)$")
    
plotCircuitResponse(xi, w_0)



t = np.linspace(0, 1, 501)
v0 = np.cos(2*np.pi*5*t)

xi = 2.0 # Dempingsrate
w_0 = 10 # Naturlig frekvens (rad/s)



RLC_circ = sig.TransferFunction([w_0**2], [1, 2*xi*w_0, w_0**2]) # Forklares senere
_, v_C, _= RLC_circ.output(v0, t) # v_C(t) når v_0(t) = 1V

plt.figure()
plt.plot(t, v0, label=r"v_0(t)")
plt.plot(t, v_C, label=r"v_C(t)")
plt.legend()
plt.xlabel("Tid $t$ (sekund)")
plt.ylabel("Spenning $v_C(t)$")
