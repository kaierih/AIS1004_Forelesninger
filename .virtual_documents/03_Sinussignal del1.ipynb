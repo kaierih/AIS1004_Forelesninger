# Generelle moduler og funksjonsbeskrivelser brukt i forelesningen
from numpy import sin, cos, pi, arctan2, exp
import numpy as np
import matplotlib.pyplot as plt
from Kildekode._03_Sinussignal import *
get_ipython().run_line_magic("matplotlib", " ipympl")


SineWaveDemo(1, fig_size=(9,4));


t = np.linspace(0, 2, 501)
x_t= cos(2*pi*1.5*t)
y_t= cos(2*pi*1.5*t + 2*pi)

plt.close(2);plt.figure(2, figsize=(12,4))
plt.plot(t, x_t, linewidth=3)
plt.plot(t, y_t, 'r:', linewidth=3)
plt.grid(True)


SquareDecompDemo(3, fig_size=(9,4));


z1 = 3 + 4j
print('z1 =', z1)

z2 = -4 + 2j
print('z2 =', z2)

print('z1 + z2 =', z1 + z2)



ComplexPolarDemo(4, fig_size=(7,7));


# Kartesisk form

x = -2
y = -3
# Trigonometrisk funksjon arctan2() kan brukes til å regne ut tan^-1
# (bruk denne istedenfor arctan(), da den ikke håndterer fortegn på noen bra måte.)
print("Vinkel i radianer: ", arctan2(x,y))

# Komplekst tall på kartesisk form
z1 = x + 1j*y
print("\nKomplekst tall z = ", z1)
print("Polarkoordinat r: ", abs(z1))
print("Vinkel i grader: ", np.angle(z1)/pi*180)

# Komplekst tall på Polarform: ,
print("\nNytt tall z = 3*e^(j0.75*pi)")
z2 = 3*exp(3j*pi/4)
print("Reell del: ", np.real(z2))
print("Imaginær del: ", np.imag(z2))



z = 1*np.exp(2j*pi/12)
n = np.arange(0, 8)



z_n = z**n

plt.close(5)
plt.figure(5, figsize=(6,6))


plt.scatter(np.real(z_n), np.imag(z_n))
plt.axis([-1.1, 1.1, -1.1, 1.1])
plt.grid(True)

# Vis enhetssirkelen som en striplet linje.
unitCircle = exp(2j*pi*np.linspace(0, 1, 501))
plt.plot(np.real(unitCircle), np.imag(unitCircle), 'r:')

